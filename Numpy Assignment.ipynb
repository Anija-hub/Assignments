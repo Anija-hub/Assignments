{
 "cells": [
  {
   "cell_type": "code",
   "execution_count": null,
   "metadata": {},
   "outputs": [],
   "source": [
    "#Problem Statement 1:\n",
    "##Write a function so that the columns of the output matrix are powers of\n",
    "#the input vector.\n",
    "#The order of the powers is determined by the increasing boolean argument. \n",
    "#Specifically,when increasing is False, the i-th output column is the \n",
    "#input vector raised element-wise to the power of N - i - 1.\n",
    "\n",
    "#HINT: Such a matrix with a geometric progression in each row is named \n",
    "#for Alexandre- Theophile Vandermonde.\n",
    "#x = np.array([1, 2, 3, 4,5])\n",
    "#len(x)\n",
    "#y = np.vander(x, increasing = False)\n",
    "#y"
   ]
  },
  {
   "cell_type": "code",
   "execution_count": 3,
   "metadata": {},
   "outputs": [
    {
     "name": "stdout",
     "output_type": "stream",
     "text": [
      "Input list of numbers is:  [1, 2, 3, 4, 5]\n",
      "Select parameter for increasing (True/False): True\n",
      "\n",
      "Alex Vandermonde matrix with parameter as True is \n",
      " [[  1.   1.   1.   1.   1.]\n",
      " [  1.   2.   4.   8.  16.]\n",
      " [  1.   3.   9.  27.  81.]\n",
      " [  1.   4.  16.  64. 256.]\n",
      " [  1.   5.  25. 125. 625.]]\n"
     ]
    }
   ],
   "source": [
    "  \n",
    "\n",
    "import numpy as np \n",
    "def van (a,n,inc): # function for Vander progression\n",
    "   if inc == 'True': \n",
    "       i = n-1\n",
    "       while i >= 0:\n",
    "           a[:,n-i-1]**=(n-i-1)\n",
    "           i -=1\n",
    "       return a\n",
    "   else:\n",
    "       i = n-1\n",
    "       k= 1\n",
    "       while i >=0:\n",
    "           a[:,n-i-1]**= (n-k)\n",
    "           i -=1\n",
    "           k = k + 1\n",
    "       return a\n",
    "num = [1,2,3,4,5]\n",
    "print ('Input list of numbers is: ', num)\n",
    "length = len (num) # count of inputs in the list\n",
    "length\n",
    "in_arr = np.array(num).reshape(length,1)\n",
    "in_arr # converted to array\n",
    "zer_arr = np.zeros((length,length)) # square matrix of zeroes\n",
    "zer_arr\n",
    "com_arr = zer_arr + in_arr\n",
    "com_arr # Matrix of 5,5 \n",
    "\n",
    "inc_param = input('Select parameter for increasing (True/False): ',)\n",
    "inc_param \n",
    "alex_vander = van (com_arr,length,inc_param)\n",
    "print('\\nAlex Vandermonde matrix with parameter as',inc_param, 'is \\n', alex_vander)\n"
   ]
  },
  {
   "cell_type": "code",
   "execution_count": null,
   "metadata": {},
   "outputs": [],
   "source": [
    "Question: Write a function to find moving average in an array over a window:\n",
    "Test it over [3, 5, 7, 2, 8, 10, 11, 65, 72, 81, 99, 100, 150] and window of 3."
   ]
  },
  {
   "cell_type": "code",
   "execution_count": 2,
   "metadata": {},
   "outputs": [
    {
     "data": {
      "text/plain": [
       "array([[  3,   1],\n",
       "       [  5,   1],\n",
       "       [  7,   1],\n",
       "       [  2,   1],\n",
       "       [  8,   1],\n",
       "       [ 10,   1],\n",
       "       [ 11,   1],\n",
       "       [ 65,   1],\n",
       "       [ 72,   1],\n",
       "       [ 81,   1],\n",
       "       [ 99,   1],\n",
       "       [100,   1],\n",
       "       [150,   1]])"
      ]
     },
     "execution_count": 2,
     "metadata": {},
     "output_type": "execute_result"
    }
   ],
   "source": [
    "import numpy as np\n",
    "x = np.array([3, 5, 7, 2, 8, 10, 11, 65, 72, 81, 99, 100, 150])\n",
    "N = 2\n",
    "np.vander(x, N)"
   ]
  },
  {
   "cell_type": "code",
   "execution_count": null,
   "metadata": {},
   "outputs": [],
   "source": []
  }
 ],
 "metadata": {
  "kernelspec": {
   "display_name": "Python 3",
   "language": "python",
   "name": "python3"
  },
  "language_info": {
   "codemirror_mode": {
    "name": "ipython",
    "version": 3
   },
   "file_extension": ".py",
   "mimetype": "text/x-python",
   "name": "python",
   "nbconvert_exporter": "python",
   "pygments_lexer": "ipython3",
   "version": "3.7.6"
  }
 },
 "nbformat": 4,
 "nbformat_minor": 4
}
